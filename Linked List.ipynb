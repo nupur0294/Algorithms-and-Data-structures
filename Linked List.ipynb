{
 "cells": [
  {
   "cell_type": "code",
   "execution_count": 11,
   "metadata": {},
   "outputs": [],
   "source": [
    "class Node:\n",
    "    def __init__(self, data= None, next=None):\n",
    "        self.data = data\n",
    "        self.next = next\n",
    "class LinkedList:\n",
    "    def __init__(self,head= None ):\n",
    "        self.head = head\n",
    "    def insert_at_beginning(self, data):\n",
    "        node= Node( data, self.head)\n",
    "        self.head = node\n",
    "    def insert_at_end(self,data):\n",
    "        if self.head ==None:\n",
    "            node = Node(data,None)\n",
    "            return\n",
    "        itr = self.head\n",
    "        while itr.next:\n",
    "            itr = itr.next\n",
    "        itr.next = Node(data,None)\n",
    "            \n",
    "    def insert_values(self, data_list):\n",
    "        self.head = None\n",
    "        for data in data_list:\n",
    "            insert_at_end(data)\n",
    "    def print(self):\n",
    "        if self.head is None:\n",
    "            print(\"empty\")\n",
    "        else:\n",
    "            itr = self.head\n",
    "            string = ''\n",
    "            while itr:\n",
    "                string += str(itr.data)+ '-->'\n",
    "                itr = itr.next\n",
    "\n",
    "            print(string)\n",
    "    "
   ]
  },
  {
   "cell_type": "code",
   "execution_count": 14,
   "metadata": {},
   "outputs": [
    {
     "name": "stdout",
     "output_type": "stream",
     "text": [
      "99-->7-->90-->\n"
     ]
    },
    {
     "ename": "TypeError",
     "evalue": "insert_values() takes 2 positional arguments but 3 were given",
     "output_type": "error",
     "traceback": [
      "\u001b[0;31m---------------------------------------------------------------------------\u001b[0m",
      "\u001b[0;31mTypeError\u001b[0m                                 Traceback (most recent call last)",
      "\u001b[0;32m<ipython-input-14-da4f0df9b5e4>\u001b[0m in \u001b[0;36m<module>\u001b[0;34m\u001b[0m\n\u001b[1;32m      5\u001b[0m     \u001b[0mll\u001b[0m\u001b[0;34m.\u001b[0m\u001b[0minsert_at_end\u001b[0m\u001b[0;34m(\u001b[0m\u001b[0;36m90\u001b[0m\u001b[0;34m)\u001b[0m\u001b[0;34m\u001b[0m\u001b[0;34m\u001b[0m\u001b[0m\n\u001b[1;32m      6\u001b[0m     \u001b[0mll\u001b[0m\u001b[0;34m.\u001b[0m\u001b[0mprint\u001b[0m\u001b[0;34m(\u001b[0m\u001b[0;34m)\u001b[0m\u001b[0;34m\u001b[0m\u001b[0;34m\u001b[0m\u001b[0m\n\u001b[0;32m----> 7\u001b[0;31m     \u001b[0mll\u001b[0m\u001b[0;34m.\u001b[0m\u001b[0minsert_values\u001b[0m\u001b[0;34m(\u001b[0m\u001b[0;34m'cat'\u001b[0m\u001b[0;34m,\u001b[0m\u001b[0;34m'dog'\u001b[0m\u001b[0;34m)\u001b[0m\u001b[0;34m\u001b[0m\u001b[0;34m\u001b[0m\u001b[0m\n\u001b[0m",
      "\u001b[0;31mTypeError\u001b[0m: insert_values() takes 2 positional arguments but 3 were given"
     ]
    }
   ],
   "source": [
    "if __name__ == '__main__':\n",
    "    ll = LinkedList()\n",
    "    ll.insert_at_beginning(7)\n",
    "    ll.insert_at_beginning(99)\n",
    "    ll.insert_at_end(90)\n",
    "    ll.print()\n",
    "    ll.insert_values('cat','dog')"
   ]
  },
  {
   "cell_type": "code",
   "execution_count": null,
   "metadata": {},
   "outputs": [],
   "source": []
  }
 ],
 "metadata": {
  "kernelspec": {
   "display_name": "Python 3",
   "language": "python",
   "name": "python3"
  },
  "language_info": {
   "codemirror_mode": {
    "name": "ipython",
    "version": 3
   },
   "file_extension": ".py",
   "mimetype": "text/x-python",
   "name": "python",
   "nbconvert_exporter": "python",
   "pygments_lexer": "ipython3",
   "version": "3.7.6"
  }
 },
 "nbformat": 4,
 "nbformat_minor": 4
}
